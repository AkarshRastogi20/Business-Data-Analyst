{
  "nbformat": 4,
  "nbformat_minor": 0,
  "metadata": {
    "colab": {
      "provenance": []
    },
    "kernelspec": {
      "name": "python3",
      "display_name": "Python 3"
    },
    "language_info": {
      "name": "python"
    }
  },
  "cells": [
    {
      "cell_type": "code",
      "execution_count": 1,
      "metadata": {
        "colab": {
          "base_uri": "https://localhost:8080/"
        },
        "id": "D8T-Zj0JV4ZK",
        "outputId": "abb129ca-91bb-472b-ea79-f1647dbe74fa"
      },
      "outputs": [
        {
          "output_type": "stream",
          "name": "stdout",
          "text": [
            "Reading package lists... Done\n",
            "Building dependency tree... Done\n",
            "Reading state information... Done\n",
            "E: Unable to locate package y\n"
          ]
        }
      ],
      "source": [
        "!apt-get install y- sqlite3"
      ]
    },
    {
      "cell_type": "code",
      "source": [
        "import sqlite3"
      ],
      "metadata": {
        "id": "f6Nn7BLOXKjr"
      },
      "execution_count": 2,
      "outputs": []
    },
    {
      "cell_type": "code",
      "source": [
        "#connect with database\n",
        "conn=sqlite3.connect('Graygraph_Sales.db')"
      ],
      "metadata": {
        "id": "gkSMQhLoXrna"
      },
      "execution_count": 3,
      "outputs": []
    },
    {
      "cell_type": "code",
      "source": [
        "cursor=conn.cursor()"
      ],
      "metadata": {
        "id": "NJTazO-SX_dg"
      },
      "execution_count": 4,
      "outputs": []
    },
    {
      "cell_type": "code",
      "source": [
        "cursor.execute('''\n",
        "    CREATE TABLE sales_info(\n",
        "      id INTEGER PRIMARY KEY,\n",
        "      name TEXT,\n",
        "      team TEXT,\n",
        "      members INTEGER,\n",
        "      total_sales INTEGER\n",
        "    )''')"
      ],
      "metadata": {
        "colab": {
          "base_uri": "https://localhost:8080/"
        },
        "id": "rYN8LeJZYIVf",
        "outputId": "8ae26039-b355-4279-f82f-0b308be99a80"
      },
      "execution_count": 5,
      "outputs": [
        {
          "output_type": "execute_result",
          "data": {
            "text/plain": [
              "<sqlite3.Cursor at 0x7e803ab95fc0>"
            ]
          },
          "metadata": {},
          "execution_count": 5
        }
      ]
    },
    {
      "cell_type": "code",
      "source": [
        "cursor.execute(\"INSERT INTO sales_info (name,team,members,total_sales) VALUES ('Akarsh','Phoenix',5,2852)\")\n",
        "cursor.execute(\"INSERT INTO sales_info (name,team,members,total_sales) VALUES ('Harsh','Harsh',5,3160)\")\n",
        "cursor.execute(\"INSERT INTO sales_info (name,team,members,total_sales) VALUES ('Tom','Titans',5,2952)\")\n",
        "cursor.execute(\"INSERT INTO sales_info (name,team,members,total_sales) VALUES ('Dustin','Dustin',6,3450)\")\n",
        "cursor.execute(\"INSERT INTO sales_info (name,team,members,total_sales) VALUES ('Sonali','Sonali',5,2851)\")\n",
        "cursor.execute(\"INSERT INTO sales_info (name,team,members,total_sales) VALUES ('Rahil','Rulers',5,2800)\")\n",
        "cursor.execute(\"INSERT INTO sales_info (name,team,members,total_sales) VALUES ('Deepak','Warriors',5,2492)\")\n",
        "cursor.execute(\"INSERT INTO sales_info (name,team,members,total_sales) VALUES ('Shubham','Rangers',5,1551)\")\n",
        "cursor.execute(\"INSERT INTO sales_info (name,team,members,total_sales) VALUES ('Ethan','Alpha',6,1252)\")"
      ],
      "metadata": {
        "colab": {
          "base_uri": "https://localhost:8080/"
        },
        "id": "V6VxaNVqZii4",
        "outputId": "bc7cec1c-9499-40c9-9ac1-9138fd6b8f9f"
      },
      "execution_count": 6,
      "outputs": [
        {
          "output_type": "execute_result",
          "data": {
            "text/plain": [
              "<sqlite3.Cursor at 0x7e803ab95fc0>"
            ]
          },
          "metadata": {},
          "execution_count": 6
        }
      ]
    },
    {
      "cell_type": "code",
      "source": [
        "cursor.execute('SELECT * FROM sales_info')"
      ],
      "metadata": {
        "colab": {
          "base_uri": "https://localhost:8080/"
        },
        "id": "mQu0d_Z6cG7k",
        "outputId": "3d64cc7e-77b0-4a3f-df85-674094deaad8"
      },
      "execution_count": 7,
      "outputs": [
        {
          "output_type": "execute_result",
          "data": {
            "text/plain": [
              "<sqlite3.Cursor at 0x7e803ab95fc0>"
            ]
          },
          "metadata": {},
          "execution_count": 7
        }
      ]
    },
    {
      "cell_type": "code",
      "source": [
        "rows=cursor.fetchall()\n",
        "\n",
        "for row in rows:\n",
        "  print(row)"
      ],
      "metadata": {
        "colab": {
          "base_uri": "https://localhost:8080/"
        },
        "id": "mW-oM6eqc5nq",
        "outputId": "80bad954-7350-423d-b5d8-6efa2298c8e8"
      },
      "execution_count": 8,
      "outputs": [
        {
          "output_type": "stream",
          "name": "stdout",
          "text": [
            "(1, 'Akarsh', 'Phoenix', 5, 2852)\n",
            "(2, 'Harsh', 'Harsh', 5, 3160)\n",
            "(3, 'Tom', 'Titans', 5, 2952)\n",
            "(4, 'Dustin', 'Dustin', 6, 3450)\n",
            "(5, 'Sonali', 'Sonali', 5, 2851)\n",
            "(6, 'Rahil', 'Rulers', 5, 2800)\n",
            "(7, 'Deepak', 'Warriors', 5, 2492)\n",
            "(8, 'Shubham', 'Rangers', 5, 1551)\n",
            "(9, 'Ethan', 'Alpha', 6, 1252)\n"
          ]
        }
      ]
    },
    {
      "cell_type": "code",
      "source": [
        "# Execute a SELECT query with a WHERE clause to filter rows where members are more than 5\n",
        "cursor.execute(\"SELECT * FROM sales_info WHERE members>5\")\n",
        "\n",
        "# Fetch all the rows from the cursor\n",
        "rows = cursor.fetchall()\n",
        "\n",
        "# Print the rows\n",
        "for row in rows:\n",
        "    print(row)"
      ],
      "metadata": {
        "id": "W6wC0GYidDPQ",
        "colab": {
          "base_uri": "https://localhost:8080/"
        },
        "outputId": "e3d4c252-f3c3-4c6b-daa8-d5f48df82ca1"
      },
      "execution_count": 9,
      "outputs": [
        {
          "output_type": "stream",
          "name": "stdout",
          "text": [
            "(4, 'Dustin', 'Dustin', 6, 3450)\n",
            "(9, 'Ethan', 'Alpha', 6, 1252)\n"
          ]
        }
      ]
    },
    {
      "cell_type": "code",
      "source": [
        "# Execute a SELECT query with a WHERE clause to filter rows where their sales is greater than 2000\n",
        "\n",
        "cursor.execute(\"SELECT * FROM sales_info WHERE total_sales>2000\")\n",
        "\n",
        "rows=cursor.fetchall()\n",
        "\n",
        "for row in rows:\n",
        "    print(row)"
      ],
      "metadata": {
        "colab": {
          "base_uri": "https://localhost:8080/"
        },
        "id": "27V8sKQMFcnM",
        "outputId": "bef74204-07e6-4600-9c25-26c567aa695f"
      },
      "execution_count": 10,
      "outputs": [
        {
          "output_type": "stream",
          "name": "stdout",
          "text": [
            "(1, 'Akarsh', 'Phoenix', 5, 2852)\n",
            "(2, 'Harsh', 'Harsh', 5, 3160)\n",
            "(3, 'Tom', 'Titans', 5, 2952)\n",
            "(4, 'Dustin', 'Dustin', 6, 3450)\n",
            "(5, 'Sonali', 'Sonali', 5, 2851)\n",
            "(6, 'Rahil', 'Rulers', 5, 2800)\n",
            "(7, 'Deepak', 'Warriors', 5, 2492)\n"
          ]
        }
      ]
    },
    {
      "cell_type": "code",
      "source": [
        "# Execute a SELECT query with a WHERE clause to filter rows where their sales is less than 2000\n",
        "\n",
        "cursor.execute(\"SELECT * FROM sales_info WHERE total_sales<2000\")\n",
        "\n",
        "rows=cursor.fetchall()\n",
        "\n",
        "for row in rows:\n",
        "    print(row)"
      ],
      "metadata": {
        "colab": {
          "base_uri": "https://localhost:8080/"
        },
        "id": "t48X0P_iGyuM",
        "outputId": "5e3babbc-8950-440f-9035-ea15055085c0"
      },
      "execution_count": 11,
      "outputs": [
        {
          "output_type": "stream",
          "name": "stdout",
          "text": [
            "(8, 'Shubham', 'Rangers', 5, 1551)\n",
            "(9, 'Ethan', 'Alpha', 6, 1252)\n"
          ]
        }
      ]
    },
    {
      "cell_type": "code",
      "source": [
        "# To get the Schema of the table\n",
        "\n",
        "cursor.execute(\"PRAGMA table_info(sales_info)\")\n",
        "\n",
        "rows=cursor.fetchall()\n",
        "\n",
        "for row in rows:\n",
        "    print(row)"
      ],
      "metadata": {
        "colab": {
          "base_uri": "https://localhost:8080/"
        },
        "id": "CNRihFSwHpZ-",
        "outputId": "438761d7-2206-4560-9b1b-dd73967964d1"
      },
      "execution_count": 12,
      "outputs": [
        {
          "output_type": "stream",
          "name": "stdout",
          "text": [
            "(0, 'id', 'INTEGER', 0, None, 1)\n",
            "(1, 'name', 'TEXT', 0, None, 0)\n",
            "(2, 'team', 'TEXT', 0, None, 0)\n",
            "(3, 'members', 'INTEGER', 0, None, 0)\n",
            "(4, 'total_sales', 'INTEGER', 0, None, 0)\n"
          ]
        }
      ]
    },
    {
      "cell_type": "code",
      "source": [
        "# Find out all the unique name records. # distinct function remove duplicates and give unique values\n",
        "\n",
        "cursor.execute(\"SELECT DISTINCT name FROM sales_info\")\n",
        "\n",
        "rows=cursor.fetchall()\n",
        "\n",
        "for row in rows:\n",
        "    print(row)"
      ],
      "metadata": {
        "colab": {
          "base_uri": "https://localhost:8080/"
        },
        "id": "wX9yFPoeI2eQ",
        "outputId": "fb24c6e7-ed56-425f-fb8e-ee2ccab79656"
      },
      "execution_count": 13,
      "outputs": [
        {
          "output_type": "stream",
          "name": "stdout",
          "text": [
            "('Akarsh',)\n",
            "('Harsh',)\n",
            "('Tom',)\n",
            "('Dustin',)\n",
            "('Sonali',)\n",
            "('Rahil',)\n",
            "('Deepak',)\n",
            "('Shubham',)\n",
            "('Ethan',)\n"
          ]
        }
      ]
    },
    {
      "cell_type": "code",
      "source": [
        "# Write a query to retrieve all the details where first name from employee table which starts with 'D'\n",
        "\n",
        "cursor.execute(\"SELECT * FROM sales_info WHERE name LIKE 'D%'\")\n",
        "\n",
        "rows=cursor.fetchall()\n",
        "\n",
        "for row in rows:\n",
        "    print(row)"
      ],
      "metadata": {
        "id": "fLe4KWqVKgHD",
        "colab": {
          "base_uri": "https://localhost:8080/"
        },
        "outputId": "69eb4740-4680-4073-912b-956a9d8835e8"
      },
      "execution_count": 14,
      "outputs": [
        {
          "output_type": "stream",
          "name": "stdout",
          "text": [
            "(4, 'Dustin', 'Dustin', 6, 3450)\n",
            "(7, 'Deepak', 'Warriors', 5, 2492)\n"
          ]
        }
      ]
    },
    {
      "cell_type": "code",
      "source": [
        "# Write a query to print all the details of the employee whose bonus between 2000 to 3000\n",
        "\n",
        "cursor.execute(\"SELECT * FROM sales_info WHERE total_sales BETWEEN 2000 AND 3000\")\n",
        "\n",
        "rows=cursor.fetchall()\n",
        "\n",
        "for row in rows:\n",
        "    print(row)"
      ],
      "metadata": {
        "colab": {
          "base_uri": "https://localhost:8080/"
        },
        "id": "M3tAPBLFCrba",
        "outputId": "27859139-7b1e-464f-e0cd-167334d8d1cf"
      },
      "execution_count": 15,
      "outputs": [
        {
          "output_type": "stream",
          "name": "stdout",
          "text": [
            "(1, 'Akarsh', 'Phoenix', 5, 2852)\n",
            "(3, 'Tom', 'Titans', 5, 2952)\n",
            "(5, 'Sonali', 'Sonali', 5, 2851)\n",
            "(6, 'Rahil', 'Rulers', 5, 2800)\n",
            "(7, 'Deepak', 'Warriors', 5, 2492)\n"
          ]
        }
      ]
    },
    {
      "cell_type": "code",
      "source": [
        "# Write a query to retrieve all the details where name from employee table which ends with 'h'\n",
        "\n",
        "cursor.execute(\"SELECT * FROM sales_info WHERE name LIKE '%h'\")\n",
        "\n",
        "rows=cursor.fetchall()\n",
        "\n",
        "for row in rows:\n",
        "    print(row)"
      ],
      "metadata": {
        "colab": {
          "base_uri": "https://localhost:8080/"
        },
        "id": "lmCSrSnVDHGL",
        "outputId": "1eb3d6a0-14de-483e-c449-6c00e612a4a0"
      },
      "execution_count": 16,
      "outputs": [
        {
          "output_type": "stream",
          "name": "stdout",
          "text": [
            "(1, 'Akarsh', 'Phoenix', 5, 2852)\n",
            "(2, 'Harsh', 'Harsh', 5, 3160)\n"
          ]
        }
      ]
    },
    {
      "cell_type": "code",
      "source": [
        "# show the data of team and and their members only\n",
        "\n",
        "cursor.execute(\"SELECT team, members FROM sales_info\")\n",
        "\n",
        "rows=cursor.fetchall()\n",
        "\n",
        "for row in rows:\n",
        "    print(row)"
      ],
      "metadata": {
        "colab": {
          "base_uri": "https://localhost:8080/"
        },
        "id": "gfWwgIzkEhT8",
        "outputId": "66b74899-683d-48b6-b22e-5305b06ffc16"
      },
      "execution_count": 23,
      "outputs": [
        {
          "output_type": "stream",
          "name": "stdout",
          "text": [
            "('Phoenix', 5)\n",
            "('Harsh', 5)\n",
            "('Titans', 5)\n",
            "('Dustin', 6)\n",
            "('Sonali', 5)\n",
            "('Rulers', 5)\n",
            "('Warriors', 5)\n",
            "('Rangers', 5)\n",
            "('Alpha', 6)\n"
          ]
        }
      ]
    },
    {
      "cell_type": "code",
      "source": [
        "# Write a SQL Query to determine 4th highest sales\n",
        "\n",
        "cursor.execute(\"SELECT * FROM sales_info ORDER BY total_sales DESC LIMIT 3,1\")\n",
        "\n",
        "rows=cursor.fetchall()\n",
        "\n",
        "for row in rows:\n",
        "    print(row)"
      ],
      "metadata": {
        "colab": {
          "base_uri": "https://localhost:8080/"
        },
        "id": "H9WPAPWOFPEV",
        "outputId": "708a5bbc-2048-494e-e658-f1bbb0a72665"
      },
      "execution_count": 24,
      "outputs": [
        {
          "output_type": "stream",
          "name": "stdout",
          "text": [
            "(1, 'Akarsh', 'Phoenix', 5, 2852)\n"
          ]
        }
      ]
    },
    {
      "cell_type": "code",
      "source": [
        "# Write a SQL Query to find out sales in decrement order\n",
        "\n",
        "cursor.execute(\"SELECT * FROM sales_info ORDER BY total_sales DESC\")\n",
        "\n",
        "rows=cursor.fetchall()\n",
        "\n",
        "for row in rows:\n",
        "    print(row)"
      ],
      "metadata": {
        "colab": {
          "base_uri": "https://localhost:8080/"
        },
        "id": "i2y0-AsTGDXh",
        "outputId": "9dd890dc-2fa9-4199-acd4-36b38593a07b"
      },
      "execution_count": 25,
      "outputs": [
        {
          "output_type": "stream",
          "name": "stdout",
          "text": [
            "(4, 'Dustin', 'Dustin', 6, 3450)\n",
            "(2, 'Harsh', 'Harsh', 5, 3160)\n",
            "(3, 'Tom', 'Titans', 5, 2952)\n",
            "(1, 'Akarsh', 'Phoenix', 5, 2852)\n",
            "(5, 'Sonali', 'Sonali', 5, 2851)\n",
            "(6, 'Rahil', 'Rulers', 5, 2800)\n",
            "(7, 'Deepak', 'Warriors', 5, 2492)\n",
            "(8, 'Shubham', 'Rangers', 5, 1551)\n",
            "(9, 'Ethan', 'Alpha', 6, 1252)\n"
          ]
        }
      ]
    },
    {
      "cell_type": "code",
      "source": [],
      "metadata": {
        "id": "iAen9zySGn54"
      },
      "execution_count": null,
      "outputs": []
    }
  ]
}